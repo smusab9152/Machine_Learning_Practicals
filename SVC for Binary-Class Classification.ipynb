{
 "cells": [
  {
   "cell_type": "markdown",
   "id": "7af64203",
   "metadata": {},
   "source": [
    "## Write a program to perform binary classification using support vector machine, also find the optimum kernel for solving the problem"
   ]
  },
  {
   "cell_type": "code",
   "execution_count": 14,
   "id": "4f15ccee",
   "metadata": {},
   "outputs": [],
   "source": [
    "# importing libraries, SVC, accuracy score and breast cancet dataset\n",
    "from sklearn.datasets import load_breast_cancer\n",
    "from sklearn.svm import SVC\n",
    "from sklearn.metrics import accuracy_score\n",
    "from sklearn.model_selection import train_test_split"
   ]
  },
  {
   "cell_type": "code",
   "execution_count": 38,
   "id": "0737b09b",
   "metadata": {},
   "outputs": [],
   "source": [
    "# creating cancet object for loading the dataset\n",
    "cancer = load_breast_cancer()"
   ]
  },
  {
   "cell_type": "code",
   "execution_count": 39,
   "id": "7490b238",
   "metadata": {},
   "outputs": [],
   "source": [
    "#splitting dataset into training and test\n",
    "X,y = cancer.data, cancer.target\n",
    "xtrain,xtest,ytrain,ytest = train_test_split(X,y,test_size = 0.2,random_state = 42)"
   ]
  },
  {
   "cell_type": "code",
   "execution_count": 32,
   "id": "3b980878",
   "metadata": {},
   "outputs": [
    {
     "data": {
      "text/plain": [
       "['linear', 'poly', 'rbf']"
      ]
     },
     "execution_count": 32,
     "metadata": {},
     "output_type": "execute_result"
    }
   ],
   "source": [
    "# creating list of kernels\n",
    "kernels = ['linear','poly','rbf']\n",
    "kernels"
   ]
  },
  {
   "cell_type": "code",
   "execution_count": 40,
   "id": "b6c6d8c8",
   "metadata": {},
   "outputs": [],
   "source": [
    "# creating variable for best accuracy and kernel\n",
    "best_kernel = None\n",
    "best_accuracy = 0"
   ]
  },
  {
   "cell_type": "code",
   "execution_count": 42,
   "id": "cda28c4d",
   "metadata": {},
   "outputs": [
    {
     "name": "stdout",
     "output_type": "stream",
     "text": [
      "For linear accuracy is 0.956140350877193\n",
      "For poly accuracy is 0.9473684210526315\n",
      "For rbf accuracy is 0.9473684210526315\n"
     ]
    }
   ],
   "source": [
    "# Creating for loop for taking every kernel into consideration while fitting the datset in SVC model. \n",
    "for kernel in kernels:\n",
    "    model= SVC(kernel = kernel)\n",
    "    model.fit(xtrain,ytrain)\n",
    "    ypred = model.predict(xtest)\n",
    "    accuracy = accuracy_score(ytest,ypred)\n",
    "    print('For',kernel,'accuracy is', accuracy)\n",
    "    if accuracy >best_accuracy:\n",
    "        best_accuracy = accuracy\n",
    "        best_kernel = kernel"
   ]
  },
  {
   "cell_type": "code",
   "execution_count": 45,
   "id": "62a794f5",
   "metadata": {
    "scrolled": true
   },
   "outputs": [
    {
     "name": "stdout",
     "output_type": "stream",
     "text": [
      "For the given problem best kernel is: linear with accuracy 0.956140350877193\n"
     ]
    }
   ],
   "source": [
    "print('For the given problem best kernel is:', best_kernel, 'with accuracy',best_accuracy)"
   ]
  }
 ],
 "metadata": {
  "kernelspec": {
   "display_name": "Python 3",
   "language": "python",
   "name": "python3"
  },
  "language_info": {
   "codemirror_mode": {
    "name": "ipython",
    "version": 3
   },
   "file_extension": ".py",
   "mimetype": "text/x-python",
   "name": "python",
   "nbconvert_exporter": "python",
   "pygments_lexer": "ipython3",
   "version": "3.8.8"
  }
 },
 "nbformat": 4,
 "nbformat_minor": 5
}
