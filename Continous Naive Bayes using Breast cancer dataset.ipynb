{
 "cells": [
  {
   "cell_type": "code",
   "execution_count": 1,
   "id": "32af98c5",
   "metadata": {},
   "outputs": [],
   "source": [
    "from sklearn.datasets import load_breast_cancer"
   ]
  },
  {
   "cell_type": "code",
   "execution_count": 3,
   "id": "1a713a5a",
   "metadata": {},
   "outputs": [],
   "source": [
    "dataset = load_breast_cancer()"
   ]
  },
  {
   "cell_type": "code",
   "execution_count": 4,
   "id": "37dde329",
   "metadata": {},
   "outputs": [],
   "source": [
    "X = dataset.data"
   ]
  },
  {
   "cell_type": "code",
   "execution_count": 5,
   "id": "04087b7f",
   "metadata": {},
   "outputs": [
    {
     "data": {
      "text/plain": [
       "(569, 30)"
      ]
     },
     "execution_count": 5,
     "metadata": {},
     "output_type": "execute_result"
    }
   ],
   "source": [
    "X.shape"
   ]
  },
  {
   "cell_type": "code",
   "execution_count": 7,
   "id": "66870fd8",
   "metadata": {},
   "outputs": [
    {
     "data": {
      "text/plain": [
       "array([2.057e+01, 1.777e+01, 1.329e+02, 1.326e+03, 8.474e-02, 7.864e-02,\n",
       "       8.690e-02, 7.017e-02, 1.812e-01, 5.667e-02, 5.435e-01, 7.339e-01,\n",
       "       3.398e+00, 7.408e+01, 5.225e-03, 1.308e-02, 1.860e-02, 1.340e-02,\n",
       "       1.389e-02, 3.532e-03, 2.499e+01, 2.341e+01, 1.588e+02, 1.956e+03,\n",
       "       1.238e-01, 1.866e-01, 2.416e-01, 1.860e-01, 2.750e-01, 8.902e-02])"
      ]
     },
     "execution_count": 7,
     "metadata": {},
     "output_type": "execute_result"
    }
   ],
   "source": [
    "X[1]"
   ]
  },
  {
   "cell_type": "code",
   "execution_count": 9,
   "id": "fdb393cc",
   "metadata": {},
   "outputs": [],
   "source": [
    "y = dataset.target"
   ]
  },
  {
   "cell_type": "code",
   "execution_count": 12,
   "id": "8c5904b4",
   "metadata": {},
   "outputs": [
    {
     "data": {
      "text/plain": [
       "(569,)"
      ]
     },
     "execution_count": 12,
     "metadata": {},
     "output_type": "execute_result"
    }
   ],
   "source": [
    "y.shape"
   ]
  },
  {
   "cell_type": "code",
   "execution_count": 13,
   "id": "6eb41385",
   "metadata": {},
   "outputs": [],
   "source": [
    "from sklearn.model_selection import train_test_split"
   ]
  },
  {
   "cell_type": "code",
   "execution_count": 28,
   "id": "31f56f5f",
   "metadata": {},
   "outputs": [],
   "source": [
    "xtrain,xtest,ytrain,ytest = train_test_split(X,y,test_size = 0.25, random_state = 42)"
   ]
  },
  {
   "cell_type": "code",
   "execution_count": 29,
   "id": "4bb968e0",
   "metadata": {},
   "outputs": [],
   "source": [
    "from sklearn.naive_bayes import GaussianNB"
   ]
  },
  {
   "cell_type": "code",
   "execution_count": 30,
   "id": "e9bb792f",
   "metadata": {},
   "outputs": [],
   "source": [
    "gnb = GaussianNB()"
   ]
  },
  {
   "cell_type": "code",
   "execution_count": 31,
   "id": "b1c03617",
   "metadata": {},
   "outputs": [
    {
     "data": {
      "text/plain": [
       "GaussianNB()"
      ]
     },
     "execution_count": 31,
     "metadata": {},
     "output_type": "execute_result"
    }
   ],
   "source": [
    "gnb"
   ]
  },
  {
   "cell_type": "code",
   "execution_count": 32,
   "id": "7391de8f",
   "metadata": {},
   "outputs": [
    {
     "data": {
      "text/plain": [
       "GaussianNB()"
      ]
     },
     "execution_count": 32,
     "metadata": {},
     "output_type": "execute_result"
    }
   ],
   "source": [
    "gnb.fit(xtrain,ytrain)"
   ]
  },
  {
   "cell_type": "code",
   "execution_count": 36,
   "id": "e6868a55",
   "metadata": {},
   "outputs": [],
   "source": [
    "prediction  = gnb.predict(xtest)"
   ]
  },
  {
   "cell_type": "code",
   "execution_count": 37,
   "id": "beb4df54",
   "metadata": {},
   "outputs": [
    {
     "data": {
      "text/plain": [
       "array([1, 0, 0, 1, 1, 0, 0, 0, 1, 1, 1, 0, 1, 0, 1, 0, 1, 1, 1, 0, 1, 1,\n",
       "       0, 1, 1, 1, 1, 1, 1, 0, 1, 1, 1, 1, 1, 1, 0, 1, 0, 1, 1, 0, 1, 1,\n",
       "       1, 1, 1, 1, 1, 1, 0, 0, 1, 1, 1, 1, 1, 0, 0, 1, 1, 0, 0, 1, 1, 1,\n",
       "       0, 0, 1, 1, 0, 0, 1, 0, 1, 1, 1, 1, 1, 1, 0, 1, 1, 0, 0, 0, 0, 0,\n",
       "       1, 1, 1, 1, 1, 1, 1, 1, 0, 0, 1, 0, 0, 1, 0, 0, 1, 1, 1, 0, 1, 1,\n",
       "       0, 1, 1, 0, 0, 0, 1, 1, 1, 0, 0, 1, 1, 0, 1, 0, 0, 1, 1, 0, 0, 0,\n",
       "       1, 1, 1, 0, 1, 1, 0, 0, 1, 0, 1])"
      ]
     },
     "execution_count": 37,
     "metadata": {},
     "output_type": "execute_result"
    }
   ],
   "source": [
    "prediction"
   ]
  },
  {
   "cell_type": "code",
   "execution_count": 39,
   "id": "caea6c7b",
   "metadata": {},
   "outputs": [],
   "source": [
    "from sklearn.metrics import accuracy_score,confusion_matrix"
   ]
  },
  {
   "cell_type": "code",
   "execution_count": 41,
   "id": "3e17e0bc",
   "metadata": {},
   "outputs": [
    {
     "data": {
      "text/plain": [
       "0.958041958041958"
      ]
     },
     "execution_count": 41,
     "metadata": {},
     "output_type": "execute_result"
    }
   ],
   "source": [
    "accuracy_score(ytest,prediction)"
   ]
  },
  {
   "cell_type": "code",
   "execution_count": 42,
   "id": "bd23c1ff",
   "metadata": {},
   "outputs": [
    {
     "data": {
      "text/plain": [
       "array([[51,  3],\n",
       "       [ 3, 86]], dtype=int64)"
      ]
     },
     "execution_count": 42,
     "metadata": {},
     "output_type": "execute_result"
    }
   ],
   "source": [
    "confusion_matrix(ytest,prediction)"
   ]
  },
  {
   "cell_type": "code",
   "execution_count": 43,
   "id": "80c89e9f",
   "metadata": {},
   "outputs": [],
   "source": [
    "from sklearn.datasets import fetch_20newsgroups"
   ]
  },
  {
   "cell_type": "code",
   "execution_count": 44,
   "id": "0bad33ca",
   "metadata": {},
   "outputs": [],
   "source": [
    "from sklearn.feature_extraction.text import CountVectorizer"
   ]
  },
  {
   "cell_type": "code",
   "execution_count": 46,
   "id": "b8a230e1",
   "metadata": {},
   "outputs": [],
   "source": [
    "from sklearn.naive_bayes import BernoulliNB,MultinomialNB"
   ]
  },
  {
   "cell_type": "code",
   "execution_count": 75,
   "id": "07694cdb",
   "metadata": {},
   "outputs": [],
   "source": [
    "newsgroups = fetch_20newsgroups(subset= 'all')"
   ]
  },
  {
   "cell_type": "code",
   "execution_count": 76,
   "id": "73b04857",
   "metadata": {},
   "outputs": [
    {
     "data": {
      "text/plain": [
       "['alt.atheism',\n",
       " 'comp.graphics',\n",
       " 'comp.os.ms-windows.misc',\n",
       " 'comp.sys.ibm.pc.hardware',\n",
       " 'comp.sys.mac.hardware',\n",
       " 'comp.windows.x',\n",
       " 'misc.forsale',\n",
       " 'rec.autos',\n",
       " 'rec.motorcycles',\n",
       " 'rec.sport.baseball',\n",
       " 'rec.sport.hockey',\n",
       " 'sci.crypt',\n",
       " 'sci.electronics',\n",
       " 'sci.med',\n",
       " 'sci.space',\n",
       " 'soc.religion.christian',\n",
       " 'talk.politics.guns',\n",
       " 'talk.politics.mideast',\n",
       " 'talk.politics.misc',\n",
       " 'talk.religion.misc']"
      ]
     },
     "execution_count": 76,
     "metadata": {},
     "output_type": "execute_result"
    }
   ],
   "source": [
    "newsgroups.target_names"
   ]
  },
  {
   "cell_type": "code",
   "execution_count": 78,
   "id": "17564b3d",
   "metadata": {},
   "outputs": [
    {
     "data": {
      "text/plain": [
       "array([10,  3, 17, ...,  3,  1,  7])"
      ]
     },
     "execution_count": 78,
     "metadata": {},
     "output_type": "execute_result"
    }
   ],
   "source": [
    "newsgroups.target"
   ]
  },
  {
   "cell_type": "code",
   "execution_count": 110,
   "id": "aa47737e",
   "metadata": {},
   "outputs": [],
   "source": [
    "vectorizer1 = CountVectorizer(binary = True)\n",
    "vectorizer2 = CountVectorizer(binary = False)"
   ]
  },
  {
   "cell_type": "code",
   "execution_count": 121,
   "id": "2f9f34a0",
   "metadata": {},
   "outputs": [],
   "source": [
    "X1 = vectorizer1.fit_transform(newsgroups.data)\n",
    "X2 = vectorizer1.fit_transform(newsgroups.data)"
   ]
  },
  {
   "cell_type": "code",
   "execution_count": 122,
   "id": "a023b36b",
   "metadata": {},
   "outputs": [
    {
     "data": {
      "text/plain": [
       "(\"From: Mamatha Devineni Ratnam <mr47+@andrew.cmu.edu>\\nSubject: Pens fans reactions\\nOrganization: Post Office, Carnegie Mellon, Pittsburgh, PA\\nLines: 12\\nNNTP-Posting-Host: po4.andrew.cmu.edu\\n\\n\\n\\nI am sure some bashers of Pens fans are pretty confused about the lack\\nof any kind of posts about the recent Pens massacre of the Devils. Actually,\\nI am  bit puzzled too and a bit relieved. However, I am going to put an end\\nto non-PIttsburghers' relief with a bit of praise for the Pens. Man, they\\nare killing those Devils worse than I thought. Jagr just showed you why\\nhe is much better than his regular season stats. He is also a lot\\nfo fun to watch in the playoffs. Bowman should let JAgr have a lot of\\nfun in the next couple of games since the Pens are going to beat the pulp out of Jersey anyway. I was very disappointed not to see the Islanders lose the final\\nregular season game.          PENS RULE!!!\\n\\n\",\n",
       " 10)"
      ]
     },
     "execution_count": 122,
     "metadata": {},
     "output_type": "execute_result"
    }
   ],
   "source": [
    "newsgroups.data[0],newsgroups.target[0]"
   ]
  },
  {
   "cell_type": "code",
   "execution_count": 123,
   "id": "c7aa57d6",
   "metadata": {
    "scrolled": true
   },
   "outputs": [
    {
     "data": {
      "text/plain": [
       "<1x173762 sparse matrix of type '<class 'numpy.int64'>'\n",
       "\twith 110 stored elements in Compressed Sparse Row format>"
      ]
     },
     "execution_count": 123,
     "metadata": {},
     "output_type": "execute_result"
    }
   ],
   "source": [
    "X1[0]"
   ]
  },
  {
   "cell_type": "code",
   "execution_count": 124,
   "id": "6addd3d4",
   "metadata": {},
   "outputs": [
    {
     "data": {
      "text/plain": [
       "<1x173762 sparse matrix of type '<class 'numpy.int64'>'\n",
       "\twith 110 stored elements in Compressed Sparse Row format>"
      ]
     },
     "execution_count": 124,
     "metadata": {},
     "output_type": "execute_result"
    }
   ],
   "source": [
    "X2[0]"
   ]
  },
  {
   "cell_type": "code",
   "execution_count": 125,
   "id": "bc277270",
   "metadata": {},
   "outputs": [],
   "source": [
    "y = newsgroups.target"
   ]
  },
  {
   "cell_type": "code",
   "execution_count": 126,
   "id": "a837de3e",
   "metadata": {},
   "outputs": [
    {
     "data": {
      "text/plain": [
       "array([10,  3, 17, ...,  3,  1,  7])"
      ]
     },
     "execution_count": 126,
     "metadata": {},
     "output_type": "execute_result"
    }
   ],
   "source": [
    "y"
   ]
  },
  {
   "cell_type": "code",
   "execution_count": 127,
   "id": "b06c73ae",
   "metadata": {},
   "outputs": [],
   "source": [
    "from sklearn.model_selection import train_test_split\n",
    "xtrain1,xtest1,ytrain,ytest = train_test_split(X1,y,test_size = 0.25,random_state = 42)"
   ]
  },
  {
   "cell_type": "code",
   "execution_count": 128,
   "id": "aa05bb29",
   "metadata": {},
   "outputs": [],
   "source": [
    "xtrain2,xtest2,ytrain,ytest = train_test_split(X2,y,test_size = 0.25, random_state = 42)"
   ]
  },
  {
   "cell_type": "code",
   "execution_count": 129,
   "id": "bf04a5b6",
   "metadata": {},
   "outputs": [],
   "source": [
    "bnb = BernoulliNB()\n",
    "mnb = MultinomialNB()"
   ]
  },
  {
   "cell_type": "code",
   "execution_count": 130,
   "id": "faf567ad",
   "metadata": {},
   "outputs": [
    {
     "data": {
      "text/plain": [
       "BernoulliNB()"
      ]
     },
     "execution_count": 130,
     "metadata": {},
     "output_type": "execute_result"
    }
   ],
   "source": [
    "bnb.fit(xtrain1,ytrain)"
   ]
  },
  {
   "cell_type": "code",
   "execution_count": 131,
   "id": "c8ad10a0",
   "metadata": {},
   "outputs": [
    {
     "data": {
      "text/plain": [
       "MultinomialNB()"
      ]
     },
     "execution_count": 131,
     "metadata": {},
     "output_type": "execute_result"
    }
   ],
   "source": [
    "mnb.fit(xtrain2,ytrain)"
   ]
  },
  {
   "cell_type": "code",
   "execution_count": 139,
   "id": "65598d14",
   "metadata": {},
   "outputs": [],
   "source": [
    "y_pred1 = bnb.predict(xtest1)"
   ]
  },
  {
   "cell_type": "code",
   "execution_count": 140,
   "id": "210d0c95",
   "metadata": {},
   "outputs": [],
   "source": [
    "y_pred2 = mnb.predict(xtest2)"
   ]
  },
  {
   "cell_type": "code",
   "execution_count": 141,
   "id": "8fca40e9",
   "metadata": {},
   "outputs": [],
   "source": [
    "from sklearn.metrics import accuracy_score,confusion_matrix"
   ]
  },
  {
   "cell_type": "code",
   "execution_count": 142,
   "id": "4c3e0036",
   "metadata": {},
   "outputs": [
    {
     "data": {
      "text/plain": [
       "0.6878183361629882"
      ]
     },
     "execution_count": 142,
     "metadata": {},
     "output_type": "execute_result"
    }
   ],
   "source": [
    "accuracy_score(ytest,y_pred1)"
   ]
  },
  {
   "cell_type": "code",
   "execution_count": 143,
   "id": "15ecddeb",
   "metadata": {},
   "outputs": [
    {
     "data": {
      "text/plain": [
       "0.8569609507640068"
      ]
     },
     "execution_count": 143,
     "metadata": {},
     "output_type": "execute_result"
    }
   ],
   "source": [
    "accuracy_score(ytest,y_pred2)"
   ]
  },
  {
   "cell_type": "code",
   "execution_count": 146,
   "id": "549ebe07",
   "metadata": {
    "collapsed": true
   },
   "outputs": [
    {
     "data": {
      "text/plain": [
       "array([[ 81,   0,   0,   8,   0,   0,   6,   4,  51,   2,   1,   1,   1,\n",
       "          2,   2,  36,   1,   2,   0,   0],\n",
       "       [  0, 165,   0,  20,   0,   1,  48,   1,   3,   0,   0,   5,   1,\n",
       "          0,   1,   0,   0,   0,   0,   0],\n",
       "       [  0,  24,  22, 147,   3,   5,  26,   1,   4,   0,   0,   4,   5,\n",
       "          0,   0,   0,   0,   0,   1,   0],\n",
       "       [  0,   2,   0, 200,   1,   0,  30,   0,   0,   0,   0,   1,   4,\n",
       "          0,   0,   0,   0,   0,   0,   0],\n",
       "       [  0,   1,   1,  21, 187,   0,  37,   0,   1,   0,   0,   0,   1,\n",
       "          0,   1,   0,   0,   0,   0,   0],\n",
       "       [  0,  26,   0,  26,   2, 162,  39,   0,   4,   0,   0,   0,   1,\n",
       "          0,   0,   0,   0,   0,   0,   0],\n",
       "       [  0,   0,   0,  20,   0,   0, 207,   3,   3,   0,   0,   0,   7,\n",
       "          0,   1,   0,   0,   0,   0,   0],\n",
       "       [  0,   1,   0,   3,   1,   0,  27, 204,   7,   0,   0,   1,   0,\n",
       "          0,   0,   0,   0,   0,   0,   0],\n",
       "       [  0,   0,   0,   0,   0,   0,  10,   1, 208,   0,   0,   0,   0,\n",
       "          0,   0,   0,   0,   0,   0,   0],\n",
       "       [  0,   0,   0,   0,   0,   0,  17,   1,   3, 238,   1,   0,   0,\n",
       "          0,   0,   1,   0,   0,   0,   0],\n",
       "       [  0,   0,   0,   1,   0,   0,  16,   1,   4,   0, 222,   0,   0,\n",
       "          0,   0,   1,   0,   0,   0,   0],\n",
       "       [  0,   4,   1,  10,   4,   1,  14,   0,  13,   0,   0, 199,   3,\n",
       "          0,   0,   0,   0,   2,   0,   0],\n",
       "       [  0,   2,   0,  14,   4,   0,  38,   0,   1,   0,   0,   1, 189,\n",
       "          0,   0,   0,   0,   0,   0,   0],\n",
       "       [  0,   5,   0,   2,   0,   0,  33,   2,  21,   0,   0,   0,   9,\n",
       "        170,   1,   4,   0,   1,   1,   0],\n",
       "       [  0,   2,   0,   1,   4,   0,  23,   0,   9,   0,   0,   0,   4,\n",
       "          1, 195,   0,   0,   1,   0,   0],\n",
       "       [  0,   1,   0,   3,   0,   0,  28,   1,   9,   0,   0,   0,   0,\n",
       "          0,   0, 203,   0,   0,   0,   0],\n",
       "       [  0,   0,   1,   1,   0,   0,   9,   3,  22,   3,   0,   2,   3,\n",
       "          0,   2,   2, 179,   1,   2,   0],\n",
       "       [  0,   1,   0,   1,   1,   0,  32,   3,  32,   4,   0,   1,   0,\n",
       "          0,   0,   6,   0, 153,   0,   0],\n",
       "       [  0,   0,   0,   0,   3,   0,  11,   9,  47,   7,   1,   4,   0,\n",
       "          3,  10,  18,  32,   5,  57,   0],\n",
       "       [  9,   0,   0,   5,   1,   0,  18,   5,  31,   2,   0,   0,   3,\n",
       "          1,   0,  77,   9,   2,   1,   0]], dtype=int64)"
      ]
     },
     "execution_count": 146,
     "metadata": {},
     "output_type": "execute_result"
    }
   ],
   "source": [
    "confusion_matrix(ytest,y_pred1)"
   ]
  },
  {
   "cell_type": "code",
   "execution_count": 147,
   "id": "79f8c575",
   "metadata": {
    "collapsed": true
   },
   "outputs": [
    {
     "data": {
      "text/plain": [
       "array([[173,   0,   0,   0,   0,   0,   0,   0,   0,   0,   0,   0,   0,\n",
       "          0,   2,  18,   0,   4,   1,   0],\n",
       "       [  0, 207,   0,  13,   0,   2,   0,   1,   0,   0,   0,  11,   0,\n",
       "          2,   3,   4,   0,   2,   0,   0],\n",
       "       [  0,  25, 115,  65,   3,  12,   0,   2,   0,   0,   0,  16,   2,\n",
       "          0,   0,   0,   2,   0,   0,   0],\n",
       "       [  0,   9,   0, 209,   5,   1,   0,   1,   0,   0,   1,   5,   4,\n",
       "          1,   1,   0,   1,   0,   0,   0],\n",
       "       [  0,   3,   1,  15, 215,   1,   1,   0,   1,   0,   2,   3,   4,\n",
       "          2,   1,   1,   0,   0,   0,   0],\n",
       "       [  1,  23,   0,   8,   1, 216,   0,   0,   2,   1,   0,   4,   0,\n",
       "          0,   2,   1,   1,   0,   0,   0],\n",
       "       [  0,   3,   0,  31,   2,   0, 158,  13,   2,   0,   2,   5,  10,\n",
       "          2,   4,   1,   4,   4,   0,   0],\n",
       "       [  0,   2,   0,   1,   1,   0,   3, 228,   1,   0,   0,   2,   2,\n",
       "          1,   0,   0,   2,   1,   0,   0],\n",
       "       [  0,   0,   0,   1,   0,   0,   4,   7, 205,   0,   0,   0,   0,\n",
       "          0,   0,   0,   1,   1,   0,   0],\n",
       "       [  0,   0,   0,   0,   0,   0,   0,   1,   1, 251,   5,   0,   0,\n",
       "          0,   0,   3,   0,   0,   0,   0],\n",
       "       [  0,   1,   0,   1,   0,   0,   1,   0,   0,   1, 240,   0,   0,\n",
       "          0,   0,   1,   0,   0,   0,   0],\n",
       "       [  0,   1,   1,   0,   0,   0,   0,   0,   0,   0,   0, 245,   1,\n",
       "          0,   2,   0,   0,   1,   0,   0],\n",
       "       [  0,   3,   0,  13,   3,   1,   2,   1,   0,   2,   0,   9, 205,\n",
       "          2,   6,   2,   0,   0,   0,   0],\n",
       "       [  0,   2,   0,   2,   0,   1,   0,   1,   1,   0,   0,   0,   3,\n",
       "        228,   3,   4,   2,   0,   2,   0],\n",
       "       [  0,   2,   0,   1,   0,   0,   0,   0,   1,   0,   0,   0,   0,\n",
       "          1, 235,   0,   0,   0,   0,   0],\n",
       "       [  0,   0,   0,   0,   0,   0,   0,   0,   0,   0,   0,   0,   0,\n",
       "          0,   0, 243,   0,   2,   0,   0],\n",
       "       [  0,   0,   1,   0,   0,   0,   0,   0,   0,   0,   0,   3,   0,\n",
       "          0,   0,   2, 221,   1,   2,   0],\n",
       "       [  1,   0,   0,   0,   0,   0,   0,   0,   0,   0,   0,   0,   0,\n",
       "          0,   0,   1,   1, 231,   0,   0],\n",
       "       [  0,   0,   0,   0,   0,   0,   0,   0,   0,   0,   0,   3,   0,\n",
       "          0,   5,   5,  23,  10, 161,   0],\n",
       "       [ 20,   0,   0,   0,   0,   0,   0,   0,   0,   1,   1,   0,   0,\n",
       "          2,   0,  71,  11,   3,   3,  52]], dtype=int64)"
      ]
     },
     "execution_count": 147,
     "metadata": {},
     "output_type": "execute_result"
    }
   ],
   "source": [
    "confusion_matrix(ytest,y_pred2)"
   ]
  }
 ],
 "metadata": {
  "kernelspec": {
   "display_name": "Python 3",
   "language": "python",
   "name": "python3"
  },
  "language_info": {
   "codemirror_mode": {
    "name": "ipython",
    "version": 3
   },
   "file_extension": ".py",
   "mimetype": "text/x-python",
   "name": "python",
   "nbconvert_exporter": "python",
   "pygments_lexer": "ipython3",
   "version": "3.8.8"
  }
 },
 "nbformat": 4,
 "nbformat_minor": 5
}
